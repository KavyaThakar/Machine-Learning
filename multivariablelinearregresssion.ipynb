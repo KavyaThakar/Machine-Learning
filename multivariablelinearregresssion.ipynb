{
  "nbformat": 4,
  "nbformat_minor": 0,
  "metadata": {
    "colab": {
      "provenance": [],
      "authorship_tag": "ABX9TyPnj0rJVGpj+YYeBIpcn4CM",
      "include_colab_link": true
    },
    "kernelspec": {
      "name": "python3",
      "display_name": "Python 3"
    },
    "language_info": {
      "name": "python"
    }
  },
  "cells": [
    {
      "cell_type": "markdown",
      "metadata": {
        "id": "view-in-github",
        "colab_type": "text"
      },
      "source": [
        "<a href=\"https://colab.research.google.com/github/KavyaThakar/Machine-Learning/blob/main/multivariablelinearregresssion.ipynb\" target=\"_parent\"><img src=\"https://colab.research.google.com/assets/colab-badge.svg\" alt=\"Open In Colab\"/></a>"
      ]
    },
    {
      "cell_type": "code",
      "execution_count": 2,
      "metadata": {
        "id": "sNvafOY_n9tu"
      },
      "outputs": [],
      "source": [
        "import pandas as pd\n",
        "import matplotlib.pyplot as plt\n",
        "import numpy as np"
      ]
    },
    {
      "cell_type": "code",
      "source": [
        "colnames = ['area','rooms','price']\n",
        "dataset = pd.read_csv((\"https://raw.githubusercontent.com/nishithkotak/machine-learning/refs/heads/master/ex1data2.txt\"),names=colnames)"
      ],
      "metadata": {
        "id": "uVfYLXPmrqf8"
      },
      "execution_count": 3,
      "outputs": []
    },
    {
      "cell_type": "code",
      "source": [
        "dataset"
      ],
      "metadata": {
        "id": "wuj3vqLTshdu"
      },
      "execution_count": null,
      "outputs": []
    },
    {
      "cell_type": "code",
      "source": [
        "dataset.describe()"
      ],
      "metadata": {
        "id": "hzKmp2ejslvZ"
      },
      "execution_count": null,
      "outputs": []
    },
    {
      "cell_type": "code",
      "source": [
        "area=dataset.iloc[0:dataset.shape[0],0:1]\n",
        "rooms=dataset.iloc[0:dataset.shape[0],1:2]\n",
        "price=dataset.iloc[0:dataset.shape[0],2:3]"
      ],
      "metadata": {
        "id": "187XNn0vtucF"
      },
      "execution_count": 6,
      "outputs": []
    },
    {
      "cell_type": "code",
      "source": [
        "dataset.shape"
      ],
      "metadata": {
        "id": "QWZi1OhXuAUF"
      },
      "execution_count": null,
      "outputs": []
    },
    {
      "cell_type": "code",
      "source": [
        "#function of normalization\n",
        "def feature_noramlization(x):\n",
        "  mean=np.mean(x,axis=0)\n",
        "  std=np.std(x,axis=0)\n",
        "  x_normalized=(x-mean)/std\n",
        "  return x_normalized,mean,std"
      ],
      "metadata": {
        "id": "zaM6GPNOuVRa"
      },
      "execution_count": 8,
      "outputs": []
    },
    {
      "cell_type": "code",
      "source": [
        "data_norm=dataset.values\n",
        "m=data_norm.shape[0]\n",
        "#take the feature vector\n",
        "x2=data_norm[:,0:2].reshape(m,2)\n",
        "x2_norm,mean,std=feature_noramlization(x2)\n",
        "\n",
        "y2=data_norm[:,2:3].reshape(m,1)"
      ],
      "metadata": {
        "id": "GNbWjkVTu-sh"
      },
      "execution_count": 9,
      "outputs": []
    },
    {
      "cell_type": "code",
      "source": [
        "x2_norm"
      ],
      "metadata": {
        "id": "oSPL5E3vv-NZ"
      },
      "execution_count": null,
      "outputs": []
    },
    {
      "cell_type": "code",
      "source": [
        "theta_array=np.zeros((3,1))"
      ],
      "metadata": {
        "id": "4wXTs30gwby9"
      },
      "execution_count": 11,
      "outputs": []
    },
    {
      "cell_type": "code",
      "source": [
        "def hypothesis(theta_array,x_norm):\n",
        "      return theta_array[0]+theta_array[1]*x_norm"
      ],
      "metadata": {
        "id": "XKkm6vFfwiUi"
      },
      "execution_count": 12,
      "outputs": []
    },
    {
      "cell_type": "code",
      "source": [
        "def cost_function(theta_array, x_value, y_value, m):\n",
        "    total_error = 0\n",
        "    for i in range(m):\n",
        "        total_error += (theta_array[0] + theta_array[1] * x_value[i] - y_value[i]) ** 2\n",
        "    return total_error / (2 * m)"
      ],
      "metadata": {
        "id": "cWMkyo1RzApg"
      },
      "execution_count": 13,
      "outputs": []
    },
    {
      "cell_type": "code",
      "source": [
        "theta_0 = 0\n",
        "theta_1 = 0\n",
        "alpha = 0.005\n",
        "iterations = 500\n"
      ],
      "metadata": {
        "id": "v5J7Aq840idQ"
      },
      "execution_count": 14,
      "outputs": []
    },
    {
      "cell_type": "code",
      "metadata": {
        "id": "8e1db530"
      },
      "source": [
        "def training(x_norm, y2, theta_array, alpha, iterations):\n",
        "    m = len(y2)\n",
        "    cost_history = []\n",
        "\n",
        "    for i in range(iterations):\n",
        "        predictions = hypothesis(theta_array, x_norm)\n",
        "        errors = predictions - y2\n",
        "        gradient = (1/m) * np.dot(x_norm.T, errors)\n",
        "        theta_array = theta_array - alpha * gradient\n",
        "        cost = cost_function(theta_array, x_norm, y2)\n",
        "        cost_history.append(cost)\n",
        "\n",
        "    return theta_array, cost_history"
      ],
      "execution_count": 15,
      "outputs": []
    },
    {
      "cell_type": "code",
      "metadata": {
        "id": "2f60988f"
      },
      "source": [
        "\n",
        "x_train = x2_norm[:, 0].reshape(-1, 1)\n",
        "theta_array_initial = np.zeros((2, 1))\n",
        "x_train_with_intercept = np.insert(x_train, 0, 1, axis=1)\n",
        "\n",
        "def hypothesis_multi(theta_array, x_value):\n",
        "    return np.dot(x_value, theta_array)\n",
        "\n",
        "def cost_function_multi(theta_array, x_value, y_value):\n",
        "    m = len(y_value)\n",
        "    predictions = hypothesis_multi(theta_array, x_value)\n",
        "    cost = (1/(2*m)) * np.sum((predictions - y_value)**2)\n",
        "    return cost\n",
        "\n",
        "def training_multi(x_value, y_value, theta_array, alpha, iterations):\n",
        "    m = len(y_value)\n",
        "    cost_history = []\n",
        "\n",
        "    for i in range(iterations):\n",
        "        predictions = hypothesis_multi(theta_array, x_value)\n",
        "        errors = predictions - y_value\n",
        "        # Gradient for multiple features\n",
        "        gradient = (1/m) * np.dot(x_value.T, errors)\n",
        "        theta_array = theta_array - alpha * gradient\n",
        "        cost = cost_function_multi(theta_array, x_value, y_value)\n",
        "        cost_history.append(cost)\n",
        "\n",
        "    return theta_array, cost_history\n",
        "theta_array_trained, cost_history = training_multi(x_train_with_intercept, y2, theta_array_initial, alpha, iterations)\n",
        "\n",
        "print(\"Trained theta_array:\", theta_array_trained)\n",
        "\n",
        "# Visualize the cost history\n",
        "plt.plot(range(iterations), cost_history)\n",
        "plt.xlabel(\"Iterations\")\n",
        "plt.ylabel(\"Cost\")\n",
        "plt.title(\"Cost History during Training\")\n",
        "plt.show()"
      ],
      "execution_count": null,
      "outputs": []
    }
  ]
}